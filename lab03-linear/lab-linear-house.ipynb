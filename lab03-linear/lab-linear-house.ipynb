{
 "cells": [
  {
   "cell_type": "code",
   "execution_count": 1,
   "metadata": {},
   "outputs": [],
   "source": [
    "import numpy as np\n",
    "import tensorflow as tf"
   ]
  },
  {
   "cell_type": "code",
   "execution_count": 2,
   "metadata": {},
   "outputs": [
    {
     "name": "stdout",
     "output_type": "stream",
     "text": [
      "WARNING:tensorflow:From C:\\Users\\user\\Anaconda3\\envs\\tf\\lib\\site-packages\\tensorflow\\python\\framework\\op_def_library.py:263: colocate_with (from tensorflow.python.framework.ops) is deprecated and will be removed in a future version.\n",
      "Instructions for updating:\n",
      "Colocations handled automatically by placer.\n"
     ]
    }
   ],
   "source": [
    "# Model linear regression y = Wx + b\n",
    "x = tf.placeholder(tf.float32, [None, 1])\n",
    "W = tf.Variable(tf.zeros([1,1]))\n",
    "b = tf.Variable(tf.zeros([1]))"
   ]
  },
  {
   "cell_type": "code",
   "execution_count": 3,
   "metadata": {},
   "outputs": [],
   "source": [
    "product = tf.matmul(x,W)\n",
    "y = product + b\n",
    "y_ = tf.placeholder(tf.float32, [None, 1])\n",
    "\n",
    "# Cost function sum((y_-y)**2)\n",
    "cost = tf.reduce_mean(tf.square(y_-y))\n",
    "\n",
    "# Training using Gradient Descent to minimize cost\n",
    "train_step = tf.train.GradientDescentOptimizer(0.0000001).minimize(cost)"
   ]
  },
  {
   "cell_type": "code",
   "execution_count": 4,
   "metadata": {},
   "outputs": [
    {
     "name": "stdout",
     "output_type": "stream",
     "text": [
      "0050     9449.835937500 [[0.01610711]] [0.00048848]\n",
      "0100    34375.386718750 [[0.12719253]] [0.00192995]\n",
      "0150    56843.046875000 [[0.399853]] [0.00410205]\n",
      "0200    54811.191406250 [[0.8234953]] [0.00653079]\n",
      "0250    31024.369140625 [[1.2925863]] [0.00863117]\n",
      "0300     9756.415039062 [[1.6696168]] [0.01001658]\n",
      "0350     1575.039550781 [[1.8862537]] [0.01069187]\n",
      "0400      119.139411926 [[1.9726166]] [0.01092569]\n",
      "0450        3.825672388 [[1.9956193]] [0.01098075]\n",
      "0500        0.047186319 [[1.9995427]] [0.01098917]\n",
      "0550        0.000203982 [[1.9999539]] [0.01098997]\n",
      "0600        0.000000730 [[1.9999803]] [0.01099001]\n",
      "0650        0.000000134 [[1.9999825]] [0.01099001]\n",
      "0700        0.000000134 [[1.9999838]] [0.01099001]\n",
      "0750        0.000000134 [[1.9999849]] [0.01099001]\n",
      "0800        0.000000134 [[1.9999858]] [0.01099001]\n",
      "0850        0.000000060 [[1.9999868]] [0.01099001]\n",
      "0900        0.000000060 [[1.9999875]] [0.01099001]\n",
      "0950        0.000000060 [[1.9999882]] [0.01099001]\n",
      "1000        0.000000060 [[1.9999888]] [0.01099001]\n"
     ]
    }
   ],
   "source": [
    "sess = tf.Session()\n",
    "init = tf.global_variables_initializer()\n",
    "sess.run(init)\n",
    "epoch = 1001\n",
    "\n",
    "for i in range(epoch):\n",
    "    # Create fake data for y = W.x + b where W = 2, b = 0\n",
    "    xs = np.array([[i]])\n",
    "    ys = np.array([[2*i]])\n",
    "    # Train\n",
    "    feed = { x: xs, y_: ys }\n",
    "    sess.run(train_step, feed_dict=feed)\n",
    "    \n",
    "    if (i+1) % 50 ==0 : \n",
    "        print('{:04d} {:18.9f} {:} {:}'.format(i+1, \n",
    "                        sess.run(cost, feed_dict=feed), sess.run(W), sess.run(b)))\n",
    "    \n",
    "# NOTE: W should be close to 2, and b should be close to 0"
   ]
  },
  {
   "cell_type": "code",
   "execution_count": null,
   "metadata": {},
   "outputs": [],
   "source": []
  },
  {
   "cell_type": "code",
   "execution_count": null,
   "metadata": {
    "collapsed": true
   },
   "outputs": [],
   "source": []
  }
 ],
 "metadata": {
  "kernelspec": {
   "display_name": "Python 3",
   "language": "python",
   "name": "python3"
  },
  "language_info": {
   "codemirror_mode": {
    "name": "ipython",
    "version": 3
   },
   "file_extension": ".py",
   "mimetype": "text/x-python",
   "name": "python",
   "nbconvert_exporter": "python",
   "pygments_lexer": "ipython3",
   "version": "3.5.5"
  }
 },
 "nbformat": 4,
 "nbformat_minor": 2
}
