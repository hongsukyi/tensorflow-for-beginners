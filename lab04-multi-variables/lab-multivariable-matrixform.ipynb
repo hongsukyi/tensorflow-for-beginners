{
 "cells": [
  {
   "cell_type": "code",
   "execution_count": 1,
   "metadata": {},
   "outputs": [
    {
     "name": "stdout",
     "output_type": "stream",
     "text": [
      "x= [[1. 1. 1. 1. 1.]\n",
      " [1. 0. 3. 0. 5.]\n",
      " [0. 2. 0. 4. 0.]]\n",
      "y= [1. 2. 3. 4. 5.]\n",
      "length= 3\n"
     ]
    }
   ],
   "source": [
    "import tensorflow as tf\n",
    "import numpy as np\n",
    "\n",
    "train_data = np.loadtxt('data4.txt', unpack=True, dtype='float32')\n",
    "\n",
    "x_data = train_data[0:-1]\n",
    "y_data = train_data[-1]\n",
    "print ('x=',x_data)\n",
    "print ('y=',y_data)\n",
    "print ('length=',len(x_data))"
   ]
  },
  {
   "cell_type": "code",
   "execution_count": 2,
   "metadata": {},
   "outputs": [
    {
     "name": "stdout",
     "output_type": "stream",
     "text": [
      "WARNING:tensorflow:From C:\\Users\\user\\Anaconda3\\envs\\tf\\lib\\site-packages\\tensorflow\\python\\framework\\op_def_library.py:263: colocate_with (from tensorflow.python.framework.ops) is deprecated and will be removed in a future version.\n",
      "Instructions for updating:\n",
      "Colocations handled automatically by placer.\n"
     ]
    }
   ],
   "source": [
    "W = tf.Variable(tf.random_uniform([1, len(x_data)], -5.0, 5.0))\n",
    "\n",
    "hypothesis = tf.matmul(W, x_data)\n",
    "cost = tf.reduce_mean(tf.square(hypothesis - y_data))"
   ]
  },
  {
   "cell_type": "code",
   "execution_count": 3,
   "metadata": {},
   "outputs": [],
   "source": [
    "learning_rate=0.01\n",
    "optimizer = tf.train.GradientDescentOptimizer(learning_rate)\n",
    "train = optimizer.minimize(cost)\n",
    "\n",
    "init = tf.global_variables_initializer()\n",
    "sess = tf.Session()\n",
    "sess.run(init)"
   ]
  },
  {
   "cell_type": "code",
   "execution_count": 4,
   "metadata": {},
   "outputs": [
    {
     "name": "stdout",
     "output_type": "stream",
     "text": [
      "0 25.043848 [[ 3.7377126   0.86138713 -2.232793  ]]\n",
      "200 0.8811389 [[2.2252924  0.41503334 0.3059415 ]]\n",
      "400 0.25953725 [[1.2077157 0.6825256 0.623319 ]]\n",
      "600 0.07644597 [[0.655454  0.8276996 0.7955669]]\n",
      "800 0.022516951 [[0.35572925 0.90648884 0.8890497 ]]\n",
      "1000 0.006632292 [[0.19306211 0.94924945 0.9397849 ]]\n",
      "1200 0.0019535157 [[0.10477901 0.9724565  0.9673199 ]]\n",
      "1400 0.0005754075 [[0.05686603 0.9850516  0.98226374]]\n",
      "1600 0.00016948387 [[0.0308624  0.99188715 0.9903741 ]]\n",
      "1800 4.99213e-05 [[0.01674975 0.99559695 0.9947759 ]]\n",
      "2000 1.4704378e-05 [[0.00909044 0.9976104  0.9971647 ]]\n"
     ]
    }
   ],
   "source": [
    "epoch=2001\n",
    "for step in range(epoch):\n",
    "    sess.run(train)\n",
    "    if step % 200 == 0:\n",
    "        print (step, sess.run(cost), sess.run(W))"
   ]
  },
  {
   "cell_type": "code",
   "execution_count": null,
   "metadata": {
    "collapsed": true
   },
   "outputs": [],
   "source": []
  }
 ],
 "metadata": {
  "kernelspec": {
   "display_name": "Python 3",
   "language": "python",
   "name": "python3"
  },
  "language_info": {
   "codemirror_mode": {
    "name": "ipython",
    "version": 3
   },
   "file_extension": ".py",
   "mimetype": "text/x-python",
   "name": "python",
   "nbconvert_exporter": "python",
   "pygments_lexer": "ipython3",
   "version": "3.5.5"
  }
 },
 "nbformat": 4,
 "nbformat_minor": 2
}
