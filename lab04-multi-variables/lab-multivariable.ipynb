{
 "cells": [
  {
   "cell_type": "code",
   "execution_count": 1,
   "metadata": {},
   "outputs": [
    {
     "name": "stdout",
     "output_type": "stream",
     "text": [
      "x= [[1. 1. 1. 1. 1.]\n",
      " [1. 0. 3. 0. 5.]\n",
      " [0. 2. 0. 4. 0.]]\n",
      "y= [1. 2. 3. 4. 5.]\n",
      "length= 3\n"
     ]
    }
   ],
   "source": [
    "import tensorflow as tf\n",
    "import numpy as np\n",
    "\n",
    "train_data = np.loadtxt('data4.txt', unpack=True, dtype='float32')\n",
    "\n",
    "x_data = train_data[0:-1]\n",
    "y_data = train_data[-1]\n",
    "print ('x=',x_data)\n",
    "print ('y=',y_data)\n",
    "print ('length=',len(x_data))"
   ]
  },
  {
   "cell_type": "code",
   "execution_count": 2,
   "metadata": {},
   "outputs": [
    {
     "name": "stdout",
     "output_type": "stream",
     "text": [
      "WARNING:tensorflow:From C:\\Users\\user\\Anaconda3\\envs\\tf\\lib\\site-packages\\tensorflow\\python\\framework\\op_def_library.py:263: colocate_with (from tensorflow.python.framework.ops) is deprecated and will be removed in a future version.\n",
      "Instructions for updating:\n",
      "Colocations handled automatically by placer.\n"
     ]
    }
   ],
   "source": [
    "W = tf.Variable(tf.random_uniform([1, len(x_data)], -5.0, 5.0))\n",
    "\n",
    "hypothesis = tf.matmul(W, x_data)\n",
    "cost = tf.reduce_mean(tf.square(hypothesis - y_data))"
   ]
  },
  {
   "cell_type": "code",
   "execution_count": 3,
   "metadata": {},
   "outputs": [],
   "source": [
    "learning_rate=0.01\n",
    "optimizer = tf.train.GradientDescentOptimizer(learning_rate)\n",
    "train = optimizer.minimize(cost)\n",
    "\n",
    "init = tf.global_variables_initializer()\n",
    "sess = tf.Session()\n",
    "sess.run(init)"
   ]
  },
  {
   "cell_type": "code",
   "execution_count": 4,
   "metadata": {},
   "outputs": [
    {
     "name": "stdout",
     "output_type": "stream",
     "text": [
      "0 28.727417 [[-3.831997    3.3880072   0.39215162]]\n",
      "200 0.7024758 [[-1.986921   1.5223056  1.6197115]]\n",
      "400 0.20691237 [[-1.0783461  1.2834668  1.3363311]]\n",
      "600 0.06094546 [[-0.58524215  1.1538436   1.1825343 ]]\n",
      "800 0.017951287 [[-0.31762362  1.0834943   1.0990654 ]]\n",
      "1000 0.005287511 [[-0.17238137  1.0453142   1.0537649 ]]\n",
      "1200 0.0015574201 [[-0.09355522  1.0245931   1.0291795 ]]\n",
      "1400 0.00045873426 [[-0.05077453  1.0133471   1.0158362 ]]\n",
      "1600 0.00013511805 [[-0.02755644  1.0072438   1.0085948 ]]\n",
      "1800 3.9798113e-05 [[-0.01495536  1.0039314   1.0046645 ]]\n",
      "2000 1.1722591e-05 [[-0.00811671  1.0021336   1.0025316 ]]\n"
     ]
    }
   ],
   "source": [
    "epoch=2001\n",
    "for step in range(epoch):\n",
    "    sess.run(train)\n",
    "    if step % 200 == 0:\n",
    "        print (step, sess.run(cost), sess.run(W))"
   ]
  },
  {
   "cell_type": "code",
   "execution_count": null,
   "metadata": {
    "collapsed": true
   },
   "outputs": [],
   "source": []
  }
 ],
 "metadata": {
  "kernelspec": {
   "display_name": "Python 3",
   "language": "python",
   "name": "python3"
  },
  "language_info": {
   "codemirror_mode": {
    "name": "ipython",
    "version": 3
   },
   "file_extension": ".py",
   "mimetype": "text/x-python",
   "name": "python",
   "nbconvert_exporter": "python",
   "pygments_lexer": "ipython3",
   "version": "3.5.5"
  }
 },
 "nbformat": 4,
 "nbformat_minor": 2
}
