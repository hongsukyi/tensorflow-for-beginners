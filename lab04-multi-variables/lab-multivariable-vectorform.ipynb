{
 "cells": [
  {
   "cell_type": "code",
   "execution_count": 1,
   "metadata": {},
   "outputs": [],
   "source": [
    "import tensorflow as tf\n",
    "import numpy as np"
   ]
  },
  {
   "cell_type": "markdown",
   "metadata": {},
   "source": [
    "아래 데이터를 보면, w1=1, w2=1, b=0"
   ]
  },
  {
   "cell_type": "code",
   "execution_count": 2,
   "metadata": {},
   "outputs": [],
   "source": [
    "x1 = [1,0, 3, 0, 5 ]\n",
    "x2 = [0, 2, 0, 4, 0]\n",
    "y_ = [1, 2, 3, 4, 5]"
   ]
  },
  {
   "cell_type": "markdown",
   "metadata": {},
   "source": [
    "웨이트는 2개 생성하고, b는 같은 값을 사용"
   ]
  },
  {
   "cell_type": "code",
   "execution_count": 3,
   "metadata": {},
   "outputs": [
    {
     "name": "stdout",
     "output_type": "stream",
     "text": [
      "WARNING:tensorflow:From C:\\Users\\user\\Anaconda3\\envs\\tf\\lib\\site-packages\\tensorflow\\python\\framework\\op_def_library.py:263: colocate_with (from tensorflow.python.framework.ops) is deprecated and will be removed in a future version.\n",
      "Instructions for updating:\n",
      "Colocations handled automatically by placer.\n"
     ]
    }
   ],
   "source": [
    "w1 = tf.Variable(tf.random_uniform([1],-1,1,tf.float32))\n",
    "w2 = tf.Variable(tf.random_uniform([1],-1,1,tf.float32))\n",
    "b  = tf.Variable(tf.random_uniform([1],-1,1,tf.float32))"
   ]
  },
  {
   "cell_type": "code",
   "execution_count": 4,
   "metadata": {},
   "outputs": [],
   "source": [
    "hypo = w1*x1 + w2*x2 + b\n",
    "cost = tf.reduce_mean(tf.square(hypo-y_))\n",
    "learning_rate=0.0001\n",
    "\n",
    "opt = tf.train.GradientDescentOptimizer(learning_rate)\n",
    "train = opt.minimize(cost)"
   ]
  },
  {
   "cell_type": "code",
   "execution_count": 5,
   "metadata": {},
   "outputs": [],
   "source": [
    "init = tf.global_variables_initializer()\n",
    "\n",
    "sess = tf.Session()\n",
    "sess.run(init)"
   ]
  },
  {
   "cell_type": "markdown",
   "metadata": {},
   "source": [
    "(연습) 루프의 길이와 learning_rate를 조정하면서 cost 값 수렴 및 w1=1, w2=1, b=0을 맞추시오"
   ]
  },
  {
   "cell_type": "code",
   "execution_count": 6,
   "metadata": {},
   "outputs": [
    {
     "name": "stdout",
     "output_type": "stream",
     "text": [
      "0 19.448116 [-0.11598735] [-0.32163948] [-0.4875815]\n",
      "200 11.6327505 [0.18245685] [-0.10791681] [-0.34379593]\n",
      "400 7.067282 [0.40005863] [0.06859124] [-0.2328606]\n",
      "600 4.364647 [0.55837065] [0.21466239] [-0.1469959]\n",
      "800 2.7411103 [0.67325646] [0.33577177] [-0.08032432]\n",
      "1000 1.7503395 [0.7563817] [0.43635786] [-0.02839502]\n",
      "1200 1.135736 [0.81631815] [0.5200304] [0.01217123]\n",
      "1400 0.7481402 [0.85935855] [0.5897344] [0.04394706]\n",
      "1600 0.49974385 [0.8901171] [0.6478795] [0.06889694]\n",
      "1800 0.3381186 [0.91197234] [0.69644284] [0.08852568]\n",
      "2000 0.23147921 [0.9273951] [0.73704964] [0.10398977]\n"
     ]
    }
   ],
   "source": [
    "epoch = 2001\n",
    "for step in range(epoch):\n",
    "    sess.run(train)\n",
    "    if step %200 ==0:\n",
    "        print (step, sess.run(cost), sess.run(w1), sess.run(w2), sess.run(b))    "
   ]
  },
  {
   "cell_type": "code",
   "execution_count": null,
   "metadata": {
    "collapsed": true
   },
   "outputs": [],
   "source": []
  }
 ],
 "metadata": {
  "kernelspec": {
   "display_name": "Python 3",
   "language": "python",
   "name": "python3"
  },
  "language_info": {
   "codemirror_mode": {
    "name": "ipython",
    "version": 3
   },
   "file_extension": ".py",
   "mimetype": "text/x-python",
   "name": "python",
   "nbconvert_exporter": "python",
   "pygments_lexer": "ipython3",
   "version": "3.5.5"
  }
 },
 "nbformat": 4,
 "nbformat_minor": 2
}
