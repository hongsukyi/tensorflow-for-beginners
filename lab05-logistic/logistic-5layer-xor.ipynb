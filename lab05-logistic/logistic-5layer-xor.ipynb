{
 "cells": [
  {
   "cell_type": "code",
   "execution_count": 1,
   "metadata": {},
   "outputs": [
    {
     "name": "stdout",
     "output_type": "stream",
     "text": [
      "WARNING:tensorflow:From C:\\Users\\user\\Anaconda3\\envs\\tf\\lib\\site-packages\\tensorflow\\python\\framework\\op_def_library.py:263: colocate_with (from tensorflow.python.framework.ops) is deprecated and will be removed in a future version.\n",
      "Instructions for updating:\n",
      "Colocations handled automatically by placer.\n",
      "WARNING:tensorflow:From C:\\Users\\user\\Anaconda3\\envs\\tf\\lib\\site-packages\\tensorflow\\python\\ops\\math_ops.py:3066: to_int32 (from tensorflow.python.ops.math_ops) is deprecated and will be removed in a future version.\n",
      "Instructions for updating:\n",
      "Use tf.cast instead.\n",
      "[array([[4.3964252e-04],\n",
      "       [9.9788254e-01],\n",
      "       [9.9787641e-01],\n",
      "       [2.1192508e-03]], dtype=float32), array([[0.],\n",
      "       [1.],\n",
      "       [1.],\n",
      "       [0.]], dtype=float32), array([[ True],\n",
      "       [ True],\n",
      "       [ True],\n",
      "       [ True]])]\n",
      "accuracy: 1.0\n"
     ]
    }
   ],
   "source": [
    "import tensorflow as tf\n",
    "import numpy as np\n",
    "\n",
    "train_data = np.loadtxt('data_xor.txt', unpack=True, dtype='float32')\n",
    "x_data = np.transpose(train_data[0:-1])\n",
    "y_data = np.reshape(train_data[-1:], (4, 1))\n",
    "X = tf.placeholder(tf.float32, name='x-input')\n",
    "Y = tf.placeholder(tf.float32, name='y-input')\n",
    "\n",
    "with tf.name_scope('weight') as scope:\n",
    "    W1 = tf.Variable(tf.random_uniform([2, 5], -1., 1.), name='weight1')\n",
    "    W2 = tf.Variable(tf.random_uniform([5, 5], -1., 1.), name='weight2')\n",
    "    W3 = tf.Variable(tf.random_uniform([5, 4], -1., 1.), name='weight3')\n",
    "    W4 = tf.Variable(tf.random_uniform([4, 1], -1., 1.), name='weight4')\n",
    "    \n",
    "with tf.name_scope('bias') as scope:\n",
    "    b1 = tf.Variable(tf.random_uniform([5], -1., 1.), name='bias1')\n",
    "    b2 = tf.Variable(tf.random_uniform([5], -1., 1.), name='bias2')\n",
    "    b3 = tf.Variable(tf.random_uniform([4], -1., 1.), name='bias3')\n",
    "    b4 = tf.Variable(tf.random_uniform([1], -1., 1.), name='bias4')\n",
    "\n",
    "with tf.name_scope('layer2') as scope:\n",
    "    L2 = tf.nn.relu(tf.matmul(X, W1) + b1)\n",
    "with tf.name_scope('layer3') as scope:\n",
    "    L3 = tf.nn.relu(tf.matmul(L2, W2) + b2)\n",
    "with tf.name_scope('layer4') as scope:\n",
    "    L4 = tf.nn.relu(tf.matmul(L3, W3) + b3)\n",
    "\n",
    "with tf.name_scope('hypothesis') as scope:\n",
    "    hypothesis = tf.sigmoid(tf.matmul(L4, W4) + b4)\n",
    "with tf.name_scope('cost') as scope:\n",
    "    cost = -tf.reduce_mean(Y * tf.log(hypothesis) + (1 - Y) * tf.log(1 - hypothesis))\n",
    "    cost_sum = tf.summary.scalar('cost', cost)\n",
    "\n",
    "w1_hist_sum = tf.summary.histogram('weight1', W1)\n",
    "w2_hist_sum = tf.summary.histogram('weight2', W2)\n",
    "w3_hist_sum = tf.summary.histogram('weight3', W3)\n",
    "w4_hist_sum = tf.summary.histogram('weight4', W4)\n",
    "\n",
    "b1_hist_sum = tf.summary.histogram('bias1', b1)\n",
    "b2_hist_sum = tf.summary.histogram('bias2', b2)\n",
    "b3_hist_sum = tf.summary.histogram('bias3', b3)\n",
    "b4_hist_sum = tf.summary.histogram('bias4', b4)\n",
    "\n",
    "y_hist_sum = tf.summary.histogram('y', Y)\n",
    "\n",
    "with tf.Session() as sess:\n",
    "    init = tf.global_variables_initializer()\n",
    "    sess.run(init)\n",
    "    learning_rate = 0.1\n",
    "    optimizer = tf.train.GradientDescentOptimizer(learning_rate)\n",
    "    train = optimizer.minimize(cost)\n",
    "    merged = tf.summary.merge_all()\n",
    "    writer = tf.summary.FileWriter('logs/xor_logs', sess.graph)\n",
    "    for step in range(1000):\n",
    "        sess.run(train, feed_dict={X: x_data, Y: y_data})\n",
    "        if step % 200 == 0:\n",
    "            summary = sess.run(merged, feed_dict={X: x_data, Y:y_data})\n",
    "            writer.add_summary(summary, step)            \n",
    "    correct_prediction = tf.equal(tf.floor(hypothesis + 0.5), Y)\n",
    "\n",
    "    accuracy = tf.reduce_mean(tf.cast(correct_prediction, tf.float32))\n",
    "    print (sess.run([hypothesis, tf.floor(hypothesis + 0.5), \n",
    "                     correct_prediction], feed_dict={X: x_data, Y: y_data}))\n",
    "    print ('accuracy:', sess.run(accuracy, feed_dict={X: x_data, Y: y_data}))\n",
    "    # print 'accuracy:', accuracy.eval({X: x_data, Y: y_data})"
   ]
  },
  {
   "cell_type": "code",
   "execution_count": null,
   "metadata": {
    "collapsed": true
   },
   "outputs": [],
   "source": []
  }
 ],
 "metadata": {
  "kernelspec": {
   "display_name": "Python 3",
   "language": "python",
   "name": "python3"
  },
  "language_info": {
   "codemirror_mode": {
    "name": "ipython",
    "version": 3
   },
   "file_extension": ".py",
   "mimetype": "text/x-python",
   "name": "python",
   "nbconvert_exporter": "python",
   "pygments_lexer": "ipython3",
   "version": "3.5.5"
  }
 },
 "nbformat": 4,
 "nbformat_minor": 2
}
