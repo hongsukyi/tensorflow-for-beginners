{
 "cells": [
  {
   "cell_type": "code",
   "execution_count": 1,
   "metadata": {},
   "outputs": [],
   "source": [
    "import tensorflow as tf\n",
    "import numpy as np\n",
    "xy= np.loadtxt('./data_xor.txt', unpack=True, dtype='float32')\n",
    "x_data = xy[0:-1]\n",
    "y_data = xy[-1]\n",
    "x_data = np.transpose(xy[0:-1])\n",
    "y_data = np.reshape(xy[-1:], (4, 1))\n",
    "\n",
    "#print (x_data,y_data)"
   ]
  },
  {
   "cell_type": "code",
   "execution_count": 2,
   "metadata": {},
   "outputs": [],
   "source": [
    "X = tf.placeholder(tf.float32)\n",
    "Y = tf.placeholder(tf.float32)"
   ]
  },
  {
   "cell_type": "markdown",
   "metadata": {},
   "source": [
    "1-hidden layers, 10 neurons "
   ]
  },
  {
   "cell_type": "code",
   "execution_count": 3,
   "metadata": {},
   "outputs": [
    {
     "name": "stdout",
     "output_type": "stream",
     "text": [
      "WARNING:tensorflow:From C:\\Users\\user\\Anaconda3\\envs\\tf\\lib\\site-packages\\tensorflow\\python\\framework\\op_def_library.py:263: colocate_with (from tensorflow.python.framework.ops) is deprecated and will be removed in a future version.\n",
      "Instructions for updating:\n",
      "Colocations handled automatically by placer.\n"
     ]
    }
   ],
   "source": [
    "W1 = tf.Variable(tf.random_uniform([2, 10], -1.0, 1.0))\n",
    "W2 = tf.Variable(tf.random_uniform([10, 1], -1.0, 1.0))\n",
    "\n",
    "b1 = tf.Variable(tf.zeros([10]), name=\"Bias1\")\n",
    "b2 = tf.Variable(tf.zeros([1]), name=\"Bias2\")\n",
    "\n",
    "L2 = tf.sigmoid(tf.matmul(X,W1)+b1)\n",
    "hypo = tf.sigmoid(tf.matmul(L2,W2) +b2)"
   ]
  },
  {
   "cell_type": "code",
   "execution_count": 4,
   "metadata": {},
   "outputs": [],
   "source": [
    "cost = -tf.reduce_mean(Y * tf.log(hypo) + (1 - Y) * tf.log(1 - hypo))"
   ]
  },
  {
   "cell_type": "code",
   "execution_count": 5,
   "metadata": {},
   "outputs": [
    {
     "name": "stdout",
     "output_type": "stream",
     "text": [
      "WARNING:tensorflow:From C:\\Users\\user\\Anaconda3\\envs\\tf\\lib\\site-packages\\tensorflow\\python\\ops\\math_ops.py:3066: to_int32 (from tensorflow.python.ops.math_ops) is deprecated and will be removed in a future version.\n",
      "Instructions for updating:\n",
      "Use tf.cast instead.\n"
     ]
    }
   ],
   "source": [
    "init = tf.global_variables_initializer()\n",
    "sess = tf.Session()\n",
    "sess.run(init)\n",
    "\n",
    "learning_rate = 0.1\n",
    "optimizer = tf.train.GradientDescentOptimizer(learning_rate)\n",
    "train = optimizer.minimize(cost)"
   ]
  },
  {
   "cell_type": "code",
   "execution_count": 6,
   "metadata": {
    "scrolled": true
   },
   "outputs": [
    {
     "name": "stdout",
     "output_type": "stream",
     "text": [
      "0 0.7207552 [[-0.7718151   0.22909838  0.33803415  0.5301178  -0.97243583 -0.06601325\n",
      "   0.8211595   0.21752411  0.93449736  0.5779185 ]\n",
      " [-0.06723803  0.23956859 -0.4631121   0.5415379   0.25740126  0.09463663\n",
      "  -0.01080887 -0.48572263 -0.38684627 -0.10017492]] [[-0.8607557 ]\n",
      " [ 0.76478225]\n",
      " [ 0.6390817 ]\n",
      " [ 0.4955317 ]\n",
      " [-0.71182054]\n",
      " [-0.62899435]\n",
      " [-0.63379174]\n",
      " [-0.19417131]\n",
      " [ 0.59045756]\n",
      " [ 0.75905097]]\n",
      "1000 0.6821076 [[-0.76886475  0.04552059  0.18814282  0.79627633 -0.70445997  0.14537439\n",
      "   1.2763517   0.31288835  0.69988775  0.32875106]\n",
      " [-0.4909775   0.20549394 -0.61128944  0.8709314   0.21329682  0.14499521\n",
      "  -0.40782028 -0.4309129  -0.4542133  -0.11496645]] [[-0.7578494 ]\n",
      " [ 0.7019635 ]\n",
      " [ 0.64275765]\n",
      " [ 0.648071  ]\n",
      " [-0.3919496 ]\n",
      " [-0.65679836]\n",
      " [-1.0726316 ]\n",
      " [-0.22784258]\n",
      " [ 0.30455387]\n",
      " [ 0.60079086]]\n",
      "2000 0.5425141 [[-1.5854471  -0.00832877  0.41839448  1.932365   -0.6054668   0.14254023\n",
      "   2.6195028   0.35357547  0.63392836  0.24969988]\n",
      " [-1.3250284  -0.10121161 -1.1512507   1.8002629   0.44566593  0.4264936\n",
      "  -1.6266758  -0.33783045 -0.80688477 -0.43661627]] [[-1.3988639 ]\n",
      " [ 0.6648834 ]\n",
      " [ 1.1139138 ]\n",
      " [ 1.7863568 ]\n",
      " [-0.47918257]\n",
      " [-0.8017298 ]\n",
      " [-2.3269715 ]\n",
      " [-0.10556503]\n",
      " [ 0.61599904]\n",
      " [ 0.69072515]]\n",
      "3000 0.18174449 [[-2.5267668  -0.09257452  1.3569698   3.2341824  -0.53979814  0.07916892\n",
      "   4.5652857   0.34526026  0.9424419   0.27352235]\n",
      " [-2.201415   -0.6436937  -2.708885    2.9542608   1.074998    1.0235336\n",
      "  -3.4493139  -0.34461    -1.8762585  -1.1663615 ]] [[-2.3453147 ]\n",
      " [ 1.004728  ]\n",
      " [ 2.7981958 ]\n",
      " [ 3.4932036 ]\n",
      " [-0.91516244]\n",
      " [-1.232963  ]\n",
      " [-5.0440426 ]\n",
      " [ 0.13106814]\n",
      " [ 1.7669351 ]\n",
      " [ 1.304866  ]]\n",
      "4000 0.068042725 [[-2.865217   -0.21190256  2.0258708   3.7249699  -0.524441    0.14600083\n",
      "   5.4389434   0.29994118  1.2858592   0.29068294]\n",
      " [-2.6344914  -0.8443801  -3.613885    3.548358    1.3878472   1.2436454\n",
      "  -4.232743   -0.38920343 -2.5559933  -1.5278034 ]] [[-2.7628658 ]\n",
      " [ 1.2865224 ]\n",
      " [ 3.913512  ]\n",
      " [ 4.364766  ]\n",
      " [-1.0820833 ]\n",
      " [-1.4240708 ]\n",
      " [-6.7911267 ]\n",
      " [ 0.23280452]\n",
      " [ 2.4806068 ]\n",
      " [ 1.6742231 ]]\n"
     ]
    }
   ],
   "source": [
    "for step in range(5000):\n",
    "    feed = {X: x_data, Y: y_data}\n",
    "    sess.run(train, feed_dict=feed)\n",
    "    if step % 1000 == 0:            \n",
    "        print (step, sess.run(cost, feed_dict=feed), sess.run(W1), sess.run(W2))"
   ]
  },
  {
   "cell_type": "code",
   "execution_count": 7,
   "metadata": {},
   "outputs": [
    {
     "name": "stdout",
     "output_type": "stream",
     "text": [
      "[array([[0.01926659],\n",
      "       [0.9582302 ],\n",
      "       [0.9663132 ],\n",
      "       [0.05280783]], dtype=float32), array([[0.],\n",
      "       [1.],\n",
      "       [1.],\n",
      "       [0.]], dtype=float32), array([[ True],\n",
      "       [ True],\n",
      "       [ True],\n",
      "       [ True]])]\n",
      "accuracy: 1.0\n"
     ]
    }
   ],
   "source": [
    "correct_prediction = tf.equal(tf.floor(hypo + 0.5), Y)\n",
    "\n",
    "accuracy = tf.reduce_mean(tf.cast(correct_prediction, tf.float32))\n",
    "\n",
    "print (sess.run([hypo, tf.floor(hypo + 0.5), correct_prediction], feed_dict=feed))\n",
    "print ('accuracy:', sess.run(accuracy, feed_dict={X: x_data, Y: y_data}))\n",
    "# print 'accuracy:', accuracy.eval({X: x_data, Y: y_data})"
   ]
  },
  {
   "cell_type": "code",
   "execution_count": null,
   "metadata": {},
   "outputs": [],
   "source": []
  },
  {
   "cell_type": "code",
   "execution_count": null,
   "metadata": {
    "collapsed": true
   },
   "outputs": [],
   "source": []
  }
 ],
 "metadata": {
  "kernelspec": {
   "display_name": "Python 3",
   "language": "python",
   "name": "python3"
  },
  "language_info": {
   "codemirror_mode": {
    "name": "ipython",
    "version": 3
   },
   "file_extension": ".py",
   "mimetype": "text/x-python",
   "name": "python",
   "nbconvert_exporter": "python",
   "pygments_lexer": "ipython3",
   "version": "3.5.5"
  }
 },
 "nbformat": 4,
 "nbformat_minor": 2
}
